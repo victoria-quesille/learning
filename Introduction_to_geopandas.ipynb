{
 "cells": [
  {
   "cell_type": "markdown",
   "id": "1abdef2a-dcc5-4736-a19d-1d18fd206fcc",
   "metadata": {},
   "source": [
    "# <span style=\"color:MediumSeaGreen\">INTRODUCTION TO GEOPANDAS</span>"
   ]
  },
  {
   "cell_type": "markdown",
   "id": "02e3d956-901d-4045-958d-fc2cd196ae69",
   "metadata": {},
   "source": [
    "This quick tutorial introduces the key concepts and basic features of GeoPandas to help you get started with your projects."
   ]
  },
  {
   "cell_type": "markdown",
   "id": "7db9dccd-3bf4-4ace-a69e-10cac3167d9f",
   "metadata": {},
   "source": [
    "## <span style=\"color:MediumSeaGreen\">Concepts</span>"
   ]
  },
  {
   "cell_type": "markdown",
   "id": "a0b4485c-929b-4d07-a6ed-15c8b0e3df91",
   "metadata": {},
   "source": [
    "GeoPandas, as the name suggests, extends the popular data science library pandas by adding support for geospatial data. If you are not familiar with pandas, we recommend taking a quick look at its Getting started documentation before proceeding.  \n",
    "\n",
    "The core data structure in GeoPandas is the <span style=\"color:MediumSeaGreen; font-weight: bold;\">geopandas.GeoDataFrame</span>, a subclass of pandas.DataFrame, that can store geometry columns and perform spatial operations. The <span style=\"color:MediumSeaGreen; font-weight: bold;\">geopandas.GeoSeries</span>, a subclass of pandas.Series, handles the geometries. Therefore, your GeoDataFrame is a combination of pandas.Series, with traditional data (numerical, boolean, text etc.), and geopandas.GeoSeries, with geometries (points, polygons etc.). You can have as many columns with geometries as you wish; there’s no limit typical for desktop GIS software."
   ]
  },
  {
   "cell_type": "markdown",
   "id": "20e39d9b-da0f-4d80-a41f-36849fd3bb77",
   "metadata": {},
   "source": [
    "<img src=\"https://geopandas.org/en/stable/_images/dataframe.svg\" alt=\"DataFrame\" width=\"700\">"
   ]
  },
  {
   "cell_type": "markdown",
   "id": "c2f53662-693f-44d6-a018-9c4aedf24351",
   "metadata": {},
   "source": [
    "Each GeoSeries can contain any geometry type (you can even mix them within a single array) and has a GeoSeries.crs attribute, which stores information about the projection (CRS stands for Coordinate Reference System). Therefore, each GeoSeries in a GeoDataFrame can be in a different projection, allowing you to have, for example, multiple versions (different projections) of the same geometry.  \n",
    "\n",
    "<span style=\"color:MediumSeaGreen; font-weight: bold;\">Only one GeoSeries in a GeoDataFrame is considered the active geometry, which means that all geometric operations applied to a GeoDataFrame operate on this active column.</span>"
   ]
  },
  {
   "cell_type": "markdown",
   "id": "bd0635b4-fc53-42b6-9520-b0b3fcb943b2",
   "metadata": {},
   "source": [
    "## <span style=\"color:MediumSeaGreen\">Reading and writing files</span>"
   ]
  },
  {
   "cell_type": "markdown",
   "id": "0eb90c36-24fd-4f9b-8bd9-1bc6ef2e2f39",
   "metadata": {},
   "source": [
    "### Reading files"
   ]
  },
  {
   "cell_type": "markdown",
   "id": "80ebeb83-6ebe-404c-8f0d-702286378e66",
   "metadata": {},
   "source": [
    "Assuming you have a file containing both data and geometry (e.g. GeoPackage, GeoJSON, Shapefile), you can read it using geopandas.read_file(), which automatically detects the filetype and creates a GeoDataFrame. This tutorial uses the \"nybb\" dataset, a map of New York boroughs, which is available through the geodatasets package. Therefore, we use geodatasets.get_path() to download the dataset and retrieve the path to the local copy."
   ]
  },
  {
   "cell_type": "code",
   "execution_count": 4,
   "id": "57f9a743-e5a7-42af-9006-240a52e01639",
   "metadata": {},
   "outputs": [
    {
     "data": {
      "text/html": [
       "<div>\n",
       "<style scoped>\n",
       "    .dataframe tbody tr th:only-of-type {\n",
       "        vertical-align: middle;\n",
       "    }\n",
       "\n",
       "    .dataframe tbody tr th {\n",
       "        vertical-align: top;\n",
       "    }\n",
       "\n",
       "    .dataframe thead th {\n",
       "        text-align: right;\n",
       "    }\n",
       "</style>\n",
       "<table border=\"1\" class=\"dataframe\">\n",
       "  <thead>\n",
       "    <tr style=\"text-align: right;\">\n",
       "      <th></th>\n",
       "      <th>BoroCode</th>\n",
       "      <th>BoroName</th>\n",
       "      <th>Shape_Leng</th>\n",
       "      <th>Shape_Area</th>\n",
       "      <th>geometry</th>\n",
       "    </tr>\n",
       "  </thead>\n",
       "  <tbody>\n",
       "    <tr>\n",
       "      <th>0</th>\n",
       "      <td>5</td>\n",
       "      <td>Staten Island</td>\n",
       "      <td>330470.010332</td>\n",
       "      <td>1.623820e+09</td>\n",
       "      <td>MULTIPOLYGON (((970217.022 145643.332, 970227....</td>\n",
       "    </tr>\n",
       "    <tr>\n",
       "      <th>1</th>\n",
       "      <td>4</td>\n",
       "      <td>Queens</td>\n",
       "      <td>896344.047763</td>\n",
       "      <td>3.045213e+09</td>\n",
       "      <td>MULTIPOLYGON (((1029606.077 156073.814, 102957...</td>\n",
       "    </tr>\n",
       "    <tr>\n",
       "      <th>2</th>\n",
       "      <td>3</td>\n",
       "      <td>Brooklyn</td>\n",
       "      <td>741080.523166</td>\n",
       "      <td>1.937479e+09</td>\n",
       "      <td>MULTIPOLYGON (((1021176.479 151374.797, 102100...</td>\n",
       "    </tr>\n",
       "    <tr>\n",
       "      <th>3</th>\n",
       "      <td>1</td>\n",
       "      <td>Manhattan</td>\n",
       "      <td>359299.096471</td>\n",
       "      <td>6.364715e+08</td>\n",
       "      <td>MULTIPOLYGON (((981219.056 188655.316, 980940....</td>\n",
       "    </tr>\n",
       "    <tr>\n",
       "      <th>4</th>\n",
       "      <td>2</td>\n",
       "      <td>Bronx</td>\n",
       "      <td>464392.991824</td>\n",
       "      <td>1.186925e+09</td>\n",
       "      <td>MULTIPOLYGON (((1012821.806 229228.265, 101278...</td>\n",
       "    </tr>\n",
       "  </tbody>\n",
       "</table>\n",
       "</div>"
      ],
      "text/plain": [
       "   BoroCode       BoroName     Shape_Leng    Shape_Area  \\\n",
       "0         5  Staten Island  330470.010332  1.623820e+09   \n",
       "1         4         Queens  896344.047763  3.045213e+09   \n",
       "2         3       Brooklyn  741080.523166  1.937479e+09   \n",
       "3         1      Manhattan  359299.096471  6.364715e+08   \n",
       "4         2          Bronx  464392.991824  1.186925e+09   \n",
       "\n",
       "                                            geometry  \n",
       "0  MULTIPOLYGON (((970217.022 145643.332, 970227....  \n",
       "1  MULTIPOLYGON (((1029606.077 156073.814, 102957...  \n",
       "2  MULTIPOLYGON (((1021176.479 151374.797, 102100...  \n",
       "3  MULTIPOLYGON (((981219.056 188655.316, 980940....  \n",
       "4  MULTIPOLYGON (((1012821.806 229228.265, 101278...  "
      ]
     },
     "execution_count": 4,
     "metadata": {},
     "output_type": "execute_result"
    }
   ],
   "source": [
    "import geopandas\n",
    "from geodatasets import get_path\n",
    "\n",
    "path_to_data = get_path('nybb')\n",
    "gdf = geopandas.read_file(path_to_data)\n",
    "\n",
    "gdf"
   ]
  },
  {
   "cell_type": "markdown",
   "id": "f2d1b964-3dae-4e95-8932-edec37a737d4",
   "metadata": {},
   "source": [
    "### Writing Files"
   ]
  },
  {
   "cell_type": "markdown",
   "id": "93faf188-4547-4679-9281-1b4c674d6be3",
   "metadata": {},
   "source": [
    "To write a GeoDataFrame back to file use GeoDataFrame.to_file(). The default file format is Shapefile, but you can specify your own with the driver keyword."
   ]
  },
  {
   "cell_type": "code",
   "execution_count": 6,
   "id": "39ebfbb8-ad36-4c9f-9dc1-8c51e9f2dd37",
   "metadata": {},
   "outputs": [],
   "source": [
    "gdf.to_file(\"my_file.geojson\", driver=\"GeoJSON\")"
   ]
  },
  {
   "cell_type": "markdown",
   "id": "27830a2e-9b93-4448-825a-ef952ae03995",
   "metadata": {},
   "source": [
    "## <span style=\"color:MediumSeaGreen\">Simple accessors and methods</span>"
   ]
  },
  {
   "cell_type": "markdown",
   "id": "585a1845-c833-47a3-8377-2ca1732db2d9",
   "metadata": {},
   "source": [
    "Now we have our GeoDataFrame and can start working with its geometry.  \n",
    "\n",
    "Since there was only one geometry column in the New York Boroughs dataset, this column automatically becomes the active geometry and spatial methods used on the GeoDataFrame will be applied to the \"geometry\" column."
   ]
  },
  {
   "cell_type": "markdown",
   "id": "a49609ec-a831-4a47-afd6-1b9aef64472c",
   "metadata": {},
   "source": [
    "### <span style=\"color:MediumSeaGreen\">Measuring area</span>"
   ]
  },
  {
   "cell_type": "markdown",
   "id": "bbb25b37-67cb-4c3c-97bc-f5e172fb1ccc",
   "metadata": {},
   "source": [
    "To measure the area of each polygon (or MultiPolygon in this specific case), access the GeoDataFrame.area attribute, which returns a pandas.Series. Note that GeoDataFrame.area is just GeoSeries.area applied to the active geometry column.  \n",
    "\n",
    "But first, to make the results easier to read, set the names of the boroughs as the index:"
   ]
  },
  {
   "cell_type": "code",
   "execution_count": 7,
   "id": "e64705da-c280-44d8-a38d-906a4882e5f6",
   "metadata": {},
   "outputs": [],
   "source": [
    "gdf = gdf.set_index('BoroName')"
   ]
  },
  {
   "cell_type": "code",
   "execution_count": 8,
   "id": "006718e5-413c-460d-ab25-adb30f3123a8",
   "metadata": {},
   "outputs": [
    {
     "data": {
      "text/plain": [
       "BoroName\n",
       "Staten Island    1.623822e+09\n",
       "Queens           3.045214e+09\n",
       "Brooklyn         1.937478e+09\n",
       "Manhattan        6.364712e+08\n",
       "Bronx            1.186926e+09\n",
       "Name: area, dtype: float64"
      ]
     },
     "execution_count": 8,
     "metadata": {},
     "output_type": "execute_result"
    }
   ],
   "source": [
    "gdf['area'] = gdf.area\n",
    "gdf['area']"
   ]
  },
  {
   "cell_type": "code",
   "execution_count": null,
   "id": "eedb1c94-8da0-496d-a145-cc53199f3d42",
   "metadata": {},
   "outputs": [],
   "source": []
  }
 ],
 "metadata": {
  "kernelspec": {
   "display_name": "Python 3 (ipykernel)",
   "language": "python",
   "name": "python3"
  },
  "language_info": {
   "codemirror_mode": {
    "name": "ipython",
    "version": 3
   },
   "file_extension": ".py",
   "mimetype": "text/x-python",
   "name": "python",
   "nbconvert_exporter": "python",
   "pygments_lexer": "ipython3",
   "version": "3.9.13"
  }
 },
 "nbformat": 4,
 "nbformat_minor": 5
}
